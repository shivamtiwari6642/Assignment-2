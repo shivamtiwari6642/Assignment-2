{
  "nbformat": 4,
  "nbformat_minor": 0,
  "metadata": {
    "colab": {
      "provenance": []
    },
    "kernelspec": {
      "name": "python3",
      "display_name": "Python 3"
    },
    "language_info": {
      "name": "python"
    }
  },
  "cells": [
    {
      "cell_type": "markdown",
      "source": [
        "1. Write a Python function that takes a list of numbers as input and returns the sum of all even numbers in the list."
      ],
      "metadata": {
        "id": "jlhw_KGVJy5n"
      }
    },
    {
      "cell_type": "code",
      "execution_count": 2,
      "metadata": {
        "colab": {
          "base_uri": "https://localhost:8080/"
        },
        "id": "p6QYGykVDNmN",
        "outputId": "09169510-c0b9-4b63-93fb-51abee4f4f55"
      },
      "outputs": [
        {
          "output_type": "stream",
          "name": "stdout",
          "text": [
            "12\n"
          ]
        }
      ],
      "source": [
        "def sum_of_evens(numbers):\n",
        "    return sum(num for num in numbers if num % 2 == 0)\n",
        "print(sum_of_evens([1, 2, 3, 4, 5, 6]))"
      ]
    },
    {
      "cell_type": "markdown",
      "source": [
        "2. Create a Python function that accepts a string and returns the reverse of that string."
      ],
      "metadata": {
        "id": "Qos_Pd4xQJ0_"
      }
    },
    {
      "cell_type": "markdown",
      "source": [],
      "metadata": {
        "id": "bZeDOo2_QctE"
      }
    },
    {
      "cell_type": "code",
      "source": [
        "def reverse_string(s):\n",
        "    return s[::-1]\n",
        "print(reverse_string(\"Shivam\"))"
      ],
      "metadata": {
        "colab": {
          "base_uri": "https://localhost:8080/"
        },
        "id": "dYq1DxxcQSs-",
        "outputId": "99974ee7-5844-407b-96f7-1a89a4c731f0"
      },
      "execution_count": 17,
      "outputs": [
        {
          "output_type": "stream",
          "name": "stdout",
          "text": [
            "mavihS\n"
          ]
        }
      ]
    },
    {
      "cell_type": "markdown",
      "source": [
        "3. Implement a Python function that takes a list of integers and returns a new list containing the squares of each number."
      ],
      "metadata": {
        "id": "5ZJ4tjKUQioR"
      }
    },
    {
      "cell_type": "code",
      "source": [
        "def square_numbers(numbers):\n",
        "    return [num ** 2 for num in numbers]\n",
        "print(square_numbers([1, 2, 3, 4]))"
      ],
      "metadata": {
        "colab": {
          "base_uri": "https://localhost:8080/"
        },
        "id": "2qxTo7wLQm48",
        "outputId": "c2c5a38a-0e86-402a-f7a1-50737d23a16f"
      },
      "execution_count": 6,
      "outputs": [
        {
          "output_type": "stream",
          "name": "stdout",
          "text": [
            "[1, 4, 9, 16]\n"
          ]
        }
      ]
    },
    {
      "cell_type": "markdown",
      "source": [
        "4. Write a Python function that checks if a given number is prime or not from 1 to 200."
      ],
      "metadata": {
        "id": "2LA7mF9zRAyB"
      }
    },
    {
      "cell_type": "code",
      "source": [
        "def is_prime(num):\n",
        "    if num < 2:\n",
        "        return False\n",
        "    for i in range(2, int(num**0.5) + 1):\n",
        "        if num % i == 0:\n",
        "            return False\n",
        "    return True\n",
        "primes = [num for num in range(1, 201) if is_prime(num)]\n",
        "print(primes)"
      ],
      "metadata": {
        "colab": {
          "base_uri": "https://localhost:8080/"
        },
        "id": "l_rTVeRhRGwE",
        "outputId": "9797bf3a-dd0c-468e-a678-7002735e6de5"
      },
      "execution_count": 7,
      "outputs": [
        {
          "output_type": "stream",
          "name": "stdout",
          "text": [
            "[2, 3, 5, 7, 11, 13, 17, 19, 23, 29, 31, 37, 41, 43, 47, 53, 59, 61, 67, 71, 73, 79, 83, 89, 97, 101, 103, 107, 109, 113, 127, 131, 137, 139, 149, 151, 157, 163, 167, 173, 179, 181, 191, 193, 197, 199]\n"
          ]
        }
      ]
    },
    {
      "cell_type": "markdown",
      "source": [
        "5. Create an iterator class in Python that generates the Fibonacci sequence up to a specified number of terms."
      ],
      "metadata": {
        "id": "gSqIcF4mROrA"
      }
    },
    {
      "cell_type": "code",
      "source": [
        "class Fibonacci:\n",
        "    def __init__(self, n):\n",
        "        self.n = n\n",
        "        self.a, self.b = 0, 1\n",
        "        self.count = 0\n",
        "\n",
        "    def __iter__(self):\n",
        "        return self\n",
        "\n",
        "    def __next__(self):\n",
        "        if self.count >= self.n:\n",
        "            raise StopIteration\n",
        "        self.count += 1\n",
        "        fib = self.a\n",
        "        self.a, self.b = self.b, self.a + self.b\n",
        "        return fib\n",
        "fib = Fibonacci(10)\n",
        "print(list(fib))"
      ],
      "metadata": {
        "colab": {
          "base_uri": "https://localhost:8080/"
        },
        "id": "TXpA1XIFRSUp",
        "outputId": "fcaa07b0-a588-4a51-b378-db88ab275095"
      },
      "execution_count": 8,
      "outputs": [
        {
          "output_type": "stream",
          "name": "stdout",
          "text": [
            "[0, 1, 1, 2, 3, 5, 8, 13, 21, 34]\n"
          ]
        }
      ]
    },
    {
      "cell_type": "markdown",
      "source": [
        "6. Write a generator function in Python that yields the powers of 2 up to a given exponent."
      ],
      "metadata": {
        "id": "_slim5gnRfgj"
      }
    },
    {
      "cell_type": "code",
      "source": [
        "def powers_of_2(exponent):\n",
        "    for i in range(exponent + 1):\n",
        "        yield 2 ** i\n",
        "for power in powers_of_2(5):\n",
        "    print(power)"
      ],
      "metadata": {
        "colab": {
          "base_uri": "https://localhost:8080/"
        },
        "id": "uRsLvPaSRmu2",
        "outputId": "6302a6ac-6a22-4bde-ff71-4b88f89b17d1"
      },
      "execution_count": 9,
      "outputs": [
        {
          "output_type": "stream",
          "name": "stdout",
          "text": [
            "1\n",
            "2\n",
            "4\n",
            "8\n",
            "16\n",
            "32\n"
          ]
        }
      ]
    },
    {
      "cell_type": "markdown",
      "source": [
        "7. Implement a generator function that reads a file line by line and yields each line as a string."
      ],
      "metadata": {
        "id": "rPBB29QTRwe0"
      }
    },
    {
      "cell_type": "code",
      "source": [
        "def read_lines(file_path):\n",
        "    with open(file_path, 'r') as file:\n",
        "        for line in file:\n",
        "            yield line.strip()"
      ],
      "metadata": {
        "id": "ep35mCTWR0JB"
      },
      "execution_count": 12,
      "outputs": []
    },
    {
      "cell_type": "markdown",
      "source": [
        "8. Use a lambda function in Python to sort a list of tuples based on the second element of each tuple."
      ],
      "metadata": {
        "id": "tCpFwTsiSUaQ"
      }
    },
    {
      "cell_type": "code",
      "source": [
        "tuples_list = [(1, 3), (2, 1), (4, 2)]\n",
        "sorted_list = sorted(tuples_list, key=lambda x: x[1])\n",
        "print(sorted_list)"
      ],
      "metadata": {
        "colab": {
          "base_uri": "https://localhost:8080/"
        },
        "id": "VApTv6Q-SYFz",
        "outputId": "086e2f7b-a115-46b0-96ea-5315de233269"
      },
      "execution_count": 13,
      "outputs": [
        {
          "output_type": "stream",
          "name": "stdout",
          "text": [
            "[(2, 1), (4, 2), (1, 3)]\n"
          ]
        }
      ]
    },
    {
      "cell_type": "markdown",
      "source": [
        "9. Write a Python program that uses `map()` to convert a list of temperatures from Celsius to Fahrenheit."
      ],
      "metadata": {
        "id": "QLqqqMnTSiWG"
      }
    },
    {
      "cell_type": "code",
      "source": [
        "celsius = [0, 20, 37, 100]\n",
        "fahrenheit = list(map(lambda x: (x * 9/5) + 32, celsius))\n",
        "print(fahrenheit)"
      ],
      "metadata": {
        "colab": {
          "base_uri": "https://localhost:8080/"
        },
        "id": "8aKw8HJMSjJm",
        "outputId": "b0ec3abf-d766-4fa9-be9c-a53454126bbb"
      },
      "execution_count": 14,
      "outputs": [
        {
          "output_type": "stream",
          "name": "stdout",
          "text": [
            "[32.0, 68.0, 98.6, 212.0]\n"
          ]
        }
      ]
    },
    {
      "cell_type": "markdown",
      "source": [
        "10. Create a Python program that uses `filter()` to remove all the vowels from a given string."
      ],
      "metadata": {
        "id": "Nx8uM_-kStFo"
      }
    },
    {
      "cell_type": "code",
      "source": [
        "def remove_vowels(s):\n",
        "    vowels = \"aeiouAEIOU\"\n",
        "    return ''.join(filter(lambda x: x not in vowels, s))\n",
        "print(remove_vowels(\"Shivam Tiwari\"))"
      ],
      "metadata": {
        "colab": {
          "base_uri": "https://localhost:8080/"
        },
        "id": "sdWrMBSjSwgH",
        "outputId": "9b605c96-0b0b-4f67-af1c-cf767b3d6751"
      },
      "execution_count": 16,
      "outputs": [
        {
          "output_type": "stream",
          "name": "stdout",
          "text": [
            "Shvm Twr\n"
          ]
        }
      ]
    },
    {
      "cell_type": "markdown",
      "source": [
        "11.Imagine an accounting routine used in a book shop. It works on a list with sublists, which look like this:\n",
        "\n",
        "\"Table Data from Question\"\n",
        "\n",
        "Write a Python program, which returns a list with 2-tuples. Each tuple consists of the order number and the product of the price per item and the quantity. The product should be increased by 10,- € if the value of the order is smaller than 100,00 €.\n",
        "\n",
        "Write a Python program using lambda and map."
      ],
      "metadata": {
        "id": "dnuQWlhzTNDj"
      }
    },
    {
      "cell_type": "code",
      "source": [
        "orders = [(34587, \"Learning Python, Mark Lutz\", 4, 40.95),\n",
        "    (98762, \"Programming Python, Mark Lutz\", 5, 56.00),\n",
        "    (77226, \"Head First Python, Paul Barry\", 3, 32.95),\n",
        "    (88112, \"Einführung in Python3, Bernd Klein\", 3, 24.99)]\n",
        "result = list(map(lambda x: (x[0], x[2] * x[3] + (10 if x[2] * x[3] < 100 else 0)), orders))\n",
        "print(result)"
      ],
      "metadata": {
        "colab": {
          "base_uri": "https://localhost:8080/"
        },
        "id": "Z0tr-SvuT2nL",
        "outputId": "f917b046-3f56-4fb3-e25c-8db348e3ac44"
      },
      "execution_count": 18,
      "outputs": [
        {
          "output_type": "stream",
          "name": "stdout",
          "text": [
            "[(34587, 163.8), (98762, 280.0), (77226, 108.85000000000001), (88112, 84.97)]\n"
          ]
        }
      ]
    }
  ]
}